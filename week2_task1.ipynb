{
 "cells": [
  {
   "cell_type": "code",
   "execution_count": 31,
   "outputs": [
    {
     "name": "stdout",
     "output_type": "stream",
     "text": [
      "(22, 254)\n"
     ]
    }
   ],
   "source": [
    "import itertools\n",
    "import re\n",
    "\n",
    "with open('sentences.txt') as f:\n",
    "    lines = [\n",
    "        [w for w in re.split(r'[^a-z]', l.lower()) if w]\n",
    "        for l in f\n",
    "    ]\n",
    "\n",
    "words = sorted(set(itertools.chain(*lines)))\n",
    "\n",
    "shape = (len(lines), len(words))\n",
    "print(shape)"
   ],
   "metadata": {
    "collapsed": false,
    "pycharm": {
     "name": "#%%\n"
    }
   }
  },
  {
   "cell_type": "code",
   "execution_count": 37,
   "outputs": [
    {
     "name": "stdout",
     "output_type": "stream",
     "text": [
      "(22, 254)\n"
     ]
    },
    {
     "data": {
      "text/plain": "array([0, 0, 0, 0, 0, 0, 0, 0, 0, 0, 0, 0, 0, 0, 0, 0, 0, 0, 0, 0, 0, 0,\n       0, 0, 0, 0, 0, 0, 0, 1, 1, 0, 0, 0, 0, 0, 0, 0, 1, 0, 0, 0, 0, 0,\n       0, 0, 0, 0, 0, 0, 0, 0, 0, 0, 1, 0, 0, 1, 0, 0, 1, 0, 0, 0, 0, 0,\n       0, 0, 0, 0, 0, 0, 0, 0, 0, 0, 0, 0, 0, 0, 0, 0, 0, 1, 0, 0, 0, 0,\n       0, 1, 0, 0, 0, 0, 0, 0, 0, 0, 0, 0, 0, 0, 0, 0, 0, 0, 0, 0, 0, 0,\n       0, 0, 0, 0, 0, 0, 0, 1, 0, 0, 0, 0, 0, 0, 0, 0, 0, 0, 0, 0, 0, 0,\n       0, 0, 1, 0, 0, 0, 0, 0, 0, 0, 0, 0, 0, 0, 0, 0, 0, 0, 0, 0, 0, 0,\n       0, 0, 0, 0, 0, 0, 0, 1, 0, 0, 0, 0, 0, 0, 0, 0, 0, 0, 0, 0, 0, 0,\n       0, 0, 0, 0, 0, 0, 0, 0, 0, 0, 0, 0, 0, 0, 0, 0, 0, 0, 0, 0, 0, 0,\n       0, 0, 0, 0, 0, 0, 0, 0, 0, 0, 0, 0, 0, 0, 1, 0, 0, 0, 0, 0, 0, 0,\n       1, 0, 0, 0, 0, 1, 0, 0, 0, 0, 0, 0, 0, 0, 0, 0, 0, 0, 0, 0, 0, 0,\n       0, 0, 0, 0, 0, 0, 0, 0, 0, 0, 0, 0])"
     },
     "execution_count": 37,
     "metadata": {},
     "output_type": "execute_result"
    }
   ],
   "source": [
    "import numpy\n",
    "\n",
    "m = numpy.array(\n",
    "    [\n",
    "        [l.count(w) for w in words]\n",
    "        for l in lines\n",
    "    ]\n",
    ")\n",
    "print(m.shape)"
   ],
   "metadata": {
    "collapsed": false,
    "pycharm": {
     "name": "#%%\n"
    }
   }
  },
  {
   "cell_type": "code",
   "execution_count": 78,
   "outputs": [
    {
     "data": {
      "text/plain": "('0 6 4 21 10 12 16 20 2 13 14 11 8 19 3 9 7 5 15 18 1 17',\n [(0.0,\n   0,\n   ['in',\n    'comparison',\n    'to',\n    'dogs',\n    'cats',\n    'have',\n    'not',\n    'undergone',\n    'major',\n    'changes',\n    'during',\n    'the',\n    'domestication',\n    'process']),\n  (0.7327387580875756,\n   6,\n   ['domestic',\n    'cats',\n    'are',\n    'similar',\n    'in',\n    'size',\n    'to',\n    'the',\n    'other',\n    'members',\n    'of',\n    'the',\n    'genus',\n    'felis',\n    'typically',\n    'weighing',\n    'between',\n    'and',\n    'kg',\n    'and',\n    'lb']),\n  (0.7770887149698589,\n   4,\n   ['in',\n    'one',\n    'people',\n    'deliberately',\n    'tamed',\n    'cats',\n    'in',\n    'a',\n    'process',\n    'of',\n    'artificial',\n    'selection',\n    'as',\n    'they',\n    'were',\n    'useful',\n    'predators',\n    'of',\n    'vermin']),\n  (0.8250364469440588,\n   21,\n   ['the',\n    'fifth',\n    'major',\n    'update',\n    'to',\n    'mac',\n    'os',\n    'x',\n    'leopard',\n    'contains',\n    'such',\n    'a',\n    'mountain',\n    'of',\n    'features',\n    'more',\n    'than',\n    'by',\n    'apple',\n    's',\n    'count']),\n  (0.8328165362273942,\n   10,\n   ['cat',\n    'command',\n    'is',\n    'one',\n    'of',\n    'the',\n    'basic',\n    'commands',\n    'that',\n    'you',\n    'learned',\n    'when',\n    'you',\n    'started',\n    'in',\n    'the',\n    'unix',\n    'linux',\n    'world']),\n  (0.8396432548525454,\n   12,\n   ['when',\n    'you',\n    'type',\n    'simply',\n    'cat',\n    'command',\n    'without',\n    'any',\n    'arguments',\n    'it',\n    'just',\n    'receives',\n    'the',\n    'stdin',\n    'content',\n    'and',\n    'displays',\n    'it',\n    'in',\n    'the',\n    'stdout']),\n  (0.8406361854220809,\n   16,\n   ['since',\n    'apple',\n    'moved',\n    'to',\n    'using',\n    'intel',\n    'processors',\n    'in',\n    'their',\n    'computers',\n    'the',\n    'osx',\n    'community',\n    'has',\n    'developed',\n    'and',\n    'now',\n    'also',\n    'allows',\n    'mac',\n    'os',\n    'x',\n    'tiger',\n    'and',\n    'later',\n    'releases',\n    'to',\n    'be',\n    'installed',\n    'on',\n    'non',\n    'apple',\n    'x',\n    'based',\n    'computers']),\n  (0.8427572744917122,\n   20,\n   ['mac',\n    'os',\n    'x',\n    'mountain',\n    'lion',\n    'installs',\n    'in',\n    'place',\n    'so',\n    'you',\n    'won',\n    't',\n    'need',\n    'to',\n    'create',\n    'a',\n    'separate',\n    'disk',\n    'or',\n    'run',\n    'the',\n    'installation',\n    'off',\n    'an',\n    'external',\n    'drive']),\n  (0.8644738145642124,\n   2,\n   ['a',\n    'common',\n    'interactive',\n    'use',\n    'of',\n    'cat',\n    'for',\n    'a',\n    'single',\n    'file',\n    'is',\n    'to',\n    'output',\n    'the',\n    'content',\n    'of',\n    'a',\n    'file',\n    'to',\n    'standard',\n    'output']),\n  (0.8703592552895671,\n   13,\n   ['leopard',\n    'was',\n    'released',\n    'on',\n    'october',\n    'as',\n    'the',\n    'successor',\n    'of',\n    'tiger',\n    'version',\n    'and',\n    'is',\n    'available',\n    'in',\n    'two',\n    'editions']),\n  (0.8740118423302576,\n   14,\n   ['according',\n    'to',\n    'apple',\n    'leopard',\n    'contains',\n    'over',\n    'changes',\n    'and',\n    'enhancements',\n    'over',\n    'its',\n    'predecessor',\n    'mac',\n    'os',\n    'x',\n    'tiger']),\n  (0.8804771390665607,\n   11,\n   ['using',\n    'cat',\n    'command',\n    'the',\n    'lines',\n    'received',\n    'from',\n    'stdin',\n    'can',\n    'be',\n    'redirected',\n    'to',\n    'a',\n    'new',\n    'file',\n    'using',\n    'redirection',\n    'symbols']),\n  (0.8842724875284311,\n   8,\n   ['cat',\n    'with',\n    'one',\n    'named',\n    'file',\n    'is',\n    'safer',\n    'where',\n    'human',\n    'error',\n    'is',\n    'a',\n    'concern',\n    'one',\n    'wrong',\n    'use',\n    'of',\n    'the',\n    'default',\n    'redirection',\n    'symbol',\n    'instead',\n    'of',\n    'often',\n    'adjacent',\n    'on',\n    'keyboards',\n    'may',\n    'permanently',\n    'delete',\n    'the',\n    'file',\n    'you',\n    'were',\n    'just',\n    'needing',\n    'to',\n    'read']),\n  (0.8885443574849294,\n   19,\n   ['the',\n    'mountain',\n    'lion',\n    'release',\n    'marks',\n    'the',\n    'second',\n    'time',\n    'apple',\n    'has',\n    'offered',\n    'an',\n    'incremental',\n    'upgrade',\n    'rather',\n    'than',\n    'releasing',\n    'a',\n    'new',\n    'cat',\n    'entirely']),\n  (0.8951715163278082,\n   3,\n   ['cats',\n    'can',\n    'hear',\n    'sounds',\n    'too',\n    'faint',\n    'or',\n    'too',\n    'high',\n    'in',\n    'frequency',\n    'for',\n    'human',\n    'ears',\n    'such',\n    'as',\n    'those',\n    'made',\n    'by',\n    'mice',\n    'and',\n    'other',\n    'small',\n    'animals']),\n  (0.9055088817476932,\n   9,\n   ['in',\n    'terms',\n    'of',\n    'legibility',\n    'a',\n    'sequence',\n    'of',\n    'commands',\n    'starting',\n    'with',\n    'cat',\n    'and',\n    'connected',\n    'by',\n    'pipes',\n    'has',\n    'a',\n    'clear',\n    'left',\n    'to',\n    'right',\n    'flow',\n    'of',\n    'information']),\n  (0.9258750683338899,\n   7,\n   ['however',\n    'if',\n    'the',\n    'output',\n    'is',\n    'piped',\n    'or',\n    'redirected',\n    'cat',\n    'is',\n    'unnecessary']),\n  (0.9402385695332803,\n   5,\n   ['the',\n    'domesticated',\n    'cat',\n    'and',\n    'its',\n    'closest',\n    'wild',\n    'ancestor',\n    'are',\n    'both',\n    'diploid',\n    'organisms',\n    'that',\n    'possess',\n    'chromosomes',\n    'and',\n    'roughly',\n    'genes']),\n  (0.9442721787424647,\n   15,\n   ['as',\n    'of',\n    'mid',\n    'some',\n    'apple',\n    'computers',\n    'have',\n    'firmware',\n    'factory',\n    'installed',\n    'which',\n    'will',\n    'no',\n    'longer',\n    'allow',\n    'installation',\n    'of',\n    'mac',\n    'os',\n    'x',\n    'leopard']),\n  (0.9442721787424647,\n   18,\n   ['apple',\n    'has',\n    'released',\n    'a',\n    'small',\n    'patch',\n    'for',\n    'the',\n    'three',\n    'most',\n    'recent',\n    'versions',\n    'of',\n    'safari',\n    'running',\n    'on',\n    'os',\n    'x',\n    'yosemite',\n    'mavericks',\n    'and',\n    'mountain',\n    'lion']),\n  (0.9527544408738466,\n   1,\n   ['as',\n    'cat',\n    'simply',\n    'catenates',\n    'streams',\n    'of',\n    'bytes',\n    'it',\n    'can',\n    'be',\n    'also',\n    'used',\n    'to',\n    'concatenate',\n    'binary',\n    'files',\n    'where',\n    'it',\n    'will',\n    'just',\n    'concatenate',\n    'sequence',\n    'of',\n    'bytes']),\n  (0.956644501523794,\n   17,\n   ['os',\n    'x',\n    'mountain',\n    'lion',\n    'was',\n    'released',\n    'on',\n    'july',\n    'for',\n    'purchase',\n    'and',\n    'download',\n    'through',\n    'apple',\n    's',\n    'mac',\n    'app',\n    'store',\n    'as',\n    'part',\n    'of',\n    'a',\n    'switch',\n    'to',\n    'releasing',\n    'os',\n    'x',\n    'versions',\n    'online',\n    'and',\n    'every',\n    'year'])])"
     },
     "execution_count": 78,
     "metadata": {},
     "output_type": "execute_result"
    }
   ],
   "source": [
    "from scipy.spatial import distance\n",
    "norm0 = numpy.dot(m[0], m[0])\n",
    "\n",
    "s = [\n",
    "    distance.cosine(m[i], m[0])\n",
    "    for i in range(0, len(lines))\n",
    "]\n",
    "\n",
    "top = sorted(\n",
    "    [\n",
    "        (v, i, lines[i])\n",
    "        for i, v in enumerate(s)\n",
    "    ]\n",
    ")\n",
    "result = [str(i) for v, i, l in top]\n",
    "\n",
    "' '.join(result), top"
   ],
   "metadata": {
    "collapsed": false,
    "pycharm": {
     "name": "#%%\n"
    }
   }
  }
 ],
 "metadata": {
  "kernelspec": {
   "display_name": "Python 3",
   "language": "python",
   "name": "python3"
  },
  "language_info": {
   "codemirror_mode": {
    "name": "ipython",
    "version": 2
   },
   "file_extension": ".py",
   "mimetype": "text/x-python",
   "name": "python",
   "nbconvert_exporter": "python",
   "pygments_lexer": "ipython2",
   "version": "2.7.6"
  }
 },
 "nbformat": 4,
 "nbformat_minor": 0
}